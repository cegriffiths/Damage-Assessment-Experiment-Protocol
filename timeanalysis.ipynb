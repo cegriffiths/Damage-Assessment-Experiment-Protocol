{
 "cells": [
  {
   "cell_type": "code",
   "execution_count": 26,
   "metadata": {},
   "outputs": [
    {
     "name": "stdout",
     "output_type": "stream",
     "text": [
      "{'ROBOT': 0, 'DATA': 146.961, 'PROTOCOL': 6.814000000000001, 'STAGE': 94.03400000000002, 'CAMERA': 0, 'ERROR': 0}\n"
     ]
    }
   ],
   "source": [
    "import matplotlib.pyplot as plt\n",
    "import numpy as np\n",
    "import re\n",
    "from datetime import datetime\n",
    "\n",
    "keywords = ['ROBOT', 'DATA', 'PROTOCOL', 'STAGE', 'CAMERA', 'ERROR']\n",
    "time_dict = {keyword: 0 for keyword in keywords}\n",
    "\n",
    "with open('./LOGS/1_log_2025-03-04_13-11-36.txt', 'r') as file:\n",
    "    first_line = True\n",
    "    previous_time = None\n",
    "    for line in file:\n",
    "        if first_line:\n",
    "            first_line = False\n",
    "            continue\n",
    "        time_match = re.search(r'\\d{2}:\\d{2}:\\d{2},\\d{3}', line)\n",
    "        keyword_match = any(keyword in line for keyword in keywords)\n",
    "        if time_match and keyword_match:\n",
    "            current_time = datetime.strptime(time_match.group(), '%H:%M:%S,%f')\n",
    "            if previous_time:\n",
    "                time_diff = current_time - previous_time\n",
    "                for keyword in keywords:\n",
    "                    if re.search(keyword, line):\n",
    "                        time_dict[keyword] += time_diff.total_seconds()\n",
    "            previous_time = current_time\n",
    "\n",
    "print(time_dict)\n"
   ]
  },
  {
   "cell_type": "code",
   "execution_count": null,
   "metadata": {},
   "outputs": [],
   "source": []
  }
 ],
 "metadata": {
  "kernelspec": {
   "display_name": "Python 3",
   "language": "python",
   "name": "python3"
  },
  "language_info": {
   "codemirror_mode": {
    "name": "ipython",
    "version": 3
   },
   "file_extension": ".py",
   "mimetype": "text/x-python",
   "name": "python",
   "nbconvert_exporter": "python",
   "pygments_lexer": "ipython3",
   "version": "3.11.2"
  }
 },
 "nbformat": 4,
 "nbformat_minor": 2
}
